{
 "cells": [
  {
   "cell_type": "markdown",
   "id": "2e121931",
   "metadata": {},
   "source": [
    "# Data Set Information:\n",
    "\n",
    "The examined group comprised kernels belonging to three different varieties of wheat: Kama, Rosa and Canadian, 70 elements each, randomly selected for\n",
    "the experiment. High quality visualization of the internal kernel structure was detected using a soft X-ray technique. It is non-destructive and considerably cheaper than other more sophisticated imaging techniques like scanning microscopy or laser technology. The images were recorded on 13x18 cm X-ray KODAK plates. Studies were conducted using combine harvested wheat grain originating from experimental fields, explored at the Institute of Agrophysics of the Polish Academy of Sciences in Lublin.\n",
    "\n",
    "The data set can be used for the tasks of classification and cluster analysis.\n",
    "\n"
   ]
  },
  {
   "cell_type": "markdown",
   "id": "808f8155",
   "metadata": {},
   "source": [
    "# Attribute Information:\n",
    "\n",
    "To construct the data, seven geometric parameters of wheat kernels were measured:\n",
    "1. area A,\n",
    "2. perimeter P,\n",
    "3. compactness C = 4*pi*A/P^2,\n",
    "4. length of kernel,\n",
    "5. width of kernel,\n",
    "6. asymmetry coefficient\n",
    "7. length of kernel groove.\n",
    "All of these parameters were real-valued continuous."
   ]
  },
  {
   "cell_type": "markdown",
   "id": "fc041422",
   "metadata": {},
   "source": [
    "### Data Repository:- https://archive.ics.uci.edu/ml/datasets/seeds#"
   ]
  },
  {
   "cell_type": "code",
   "execution_count": 1,
   "id": "78607e18",
   "metadata": {},
   "outputs": [],
   "source": [
    "import pandas as pd"
   ]
  },
  {
   "cell_type": "code",
   "execution_count": 2,
   "id": "bee39f94",
   "metadata": {
    "scrolled": true
   },
   "outputs": [
    {
     "data": {
      "text/html": [
       "<div>\n",
       "<style scoped>\n",
       "    .dataframe tbody tr th:only-of-type {\n",
       "        vertical-align: middle;\n",
       "    }\n",
       "\n",
       "    .dataframe tbody tr th {\n",
       "        vertical-align: top;\n",
       "    }\n",
       "\n",
       "    .dataframe thead th {\n",
       "        text-align: right;\n",
       "    }\n",
       "</style>\n",
       "<table border=\"1\" class=\"dataframe\">\n",
       "  <thead>\n",
       "    <tr style=\"text-align: right;\">\n",
       "      <th></th>\n",
       "      <th>area</th>\n",
       "      <th>perimeter</th>\n",
       "      <th>compactness</th>\n",
       "      <th>length_of_ker</th>\n",
       "      <th>width_of_ker</th>\n",
       "      <th>asymmetry_coefficient</th>\n",
       "      <th>lenght_of_ker_groove</th>\n",
       "      <th>varieties</th>\n",
       "    </tr>\n",
       "  </thead>\n",
       "  <tbody>\n",
       "    <tr>\n",
       "      <th>0</th>\n",
       "      <td>15.26</td>\n",
       "      <td>14.84</td>\n",
       "      <td>0.8710</td>\n",
       "      <td>5.763</td>\n",
       "      <td>3.312</td>\n",
       "      <td>2.221</td>\n",
       "      <td>5.220</td>\n",
       "      <td>1</td>\n",
       "    </tr>\n",
       "    <tr>\n",
       "      <th>1</th>\n",
       "      <td>14.88</td>\n",
       "      <td>14.57</td>\n",
       "      <td>0.8811</td>\n",
       "      <td>5.554</td>\n",
       "      <td>3.333</td>\n",
       "      <td>1.018</td>\n",
       "      <td>4.956</td>\n",
       "      <td>1</td>\n",
       "    </tr>\n",
       "    <tr>\n",
       "      <th>2</th>\n",
       "      <td>14.29</td>\n",
       "      <td>14.09</td>\n",
       "      <td>0.9050</td>\n",
       "      <td>5.291</td>\n",
       "      <td>3.337</td>\n",
       "      <td>2.699</td>\n",
       "      <td>4.825</td>\n",
       "      <td>1</td>\n",
       "    </tr>\n",
       "    <tr>\n",
       "      <th>3</th>\n",
       "      <td>13.84</td>\n",
       "      <td>13.94</td>\n",
       "      <td>0.8955</td>\n",
       "      <td>5.324</td>\n",
       "      <td>3.379</td>\n",
       "      <td>2.259</td>\n",
       "      <td>4.805</td>\n",
       "      <td>1</td>\n",
       "    </tr>\n",
       "    <tr>\n",
       "      <th>4</th>\n",
       "      <td>16.14</td>\n",
       "      <td>14.99</td>\n",
       "      <td>0.9034</td>\n",
       "      <td>5.658</td>\n",
       "      <td>3.562</td>\n",
       "      <td>1.355</td>\n",
       "      <td>5.175</td>\n",
       "      <td>1</td>\n",
       "    </tr>\n",
       "    <tr>\n",
       "      <th>...</th>\n",
       "      <td>...</td>\n",
       "      <td>...</td>\n",
       "      <td>...</td>\n",
       "      <td>...</td>\n",
       "      <td>...</td>\n",
       "      <td>...</td>\n",
       "      <td>...</td>\n",
       "      <td>...</td>\n",
       "    </tr>\n",
       "    <tr>\n",
       "      <th>205</th>\n",
       "      <td>12.19</td>\n",
       "      <td>13.20</td>\n",
       "      <td>0.8783</td>\n",
       "      <td>5.137</td>\n",
       "      <td>2.981</td>\n",
       "      <td>3.631</td>\n",
       "      <td>4.870</td>\n",
       "      <td>3</td>\n",
       "    </tr>\n",
       "    <tr>\n",
       "      <th>206</th>\n",
       "      <td>11.23</td>\n",
       "      <td>12.88</td>\n",
       "      <td>0.8511</td>\n",
       "      <td>5.140</td>\n",
       "      <td>2.795</td>\n",
       "      <td>4.325</td>\n",
       "      <td>5.003</td>\n",
       "      <td>3</td>\n",
       "    </tr>\n",
       "    <tr>\n",
       "      <th>207</th>\n",
       "      <td>13.20</td>\n",
       "      <td>13.66</td>\n",
       "      <td>0.8883</td>\n",
       "      <td>5.236</td>\n",
       "      <td>3.232</td>\n",
       "      <td>8.315</td>\n",
       "      <td>5.056</td>\n",
       "      <td>3</td>\n",
       "    </tr>\n",
       "    <tr>\n",
       "      <th>208</th>\n",
       "      <td>11.84</td>\n",
       "      <td>13.21</td>\n",
       "      <td>0.8521</td>\n",
       "      <td>5.175</td>\n",
       "      <td>2.836</td>\n",
       "      <td>3.598</td>\n",
       "      <td>5.044</td>\n",
       "      <td>3</td>\n",
       "    </tr>\n",
       "    <tr>\n",
       "      <th>209</th>\n",
       "      <td>12.30</td>\n",
       "      <td>13.34</td>\n",
       "      <td>0.8684</td>\n",
       "      <td>5.243</td>\n",
       "      <td>2.974</td>\n",
       "      <td>5.637</td>\n",
       "      <td>5.063</td>\n",
       "      <td>3</td>\n",
       "    </tr>\n",
       "  </tbody>\n",
       "</table>\n",
       "<p>210 rows × 8 columns</p>\n",
       "</div>"
      ],
      "text/plain": [
       "      area  perimeter  compactness  length_of_ker  width_of_ker  \\\n",
       "0    15.26      14.84       0.8710          5.763         3.312   \n",
       "1    14.88      14.57       0.8811          5.554         3.333   \n",
       "2    14.29      14.09       0.9050          5.291         3.337   \n",
       "3    13.84      13.94       0.8955          5.324         3.379   \n",
       "4    16.14      14.99       0.9034          5.658         3.562   \n",
       "..     ...        ...          ...            ...           ...   \n",
       "205  12.19      13.20       0.8783          5.137         2.981   \n",
       "206  11.23      12.88       0.8511          5.140         2.795   \n",
       "207  13.20      13.66       0.8883          5.236         3.232   \n",
       "208  11.84      13.21       0.8521          5.175         2.836   \n",
       "209  12.30      13.34       0.8684          5.243         2.974   \n",
       "\n",
       "     asymmetry_coefficient  lenght_of_ker_groove  varieties  \n",
       "0                    2.221                 5.220          1  \n",
       "1                    1.018                 4.956          1  \n",
       "2                    2.699                 4.825          1  \n",
       "3                    2.259                 4.805          1  \n",
       "4                    1.355                 5.175          1  \n",
       "..                     ...                   ...        ...  \n",
       "205                  3.631                 4.870          3  \n",
       "206                  4.325                 5.003          3  \n",
       "207                  8.315                 5.056          3  \n",
       "208                  3.598                 5.044          3  \n",
       "209                  5.637                 5.063          3  \n",
       "\n",
       "[210 rows x 8 columns]"
      ]
     },
     "execution_count": 2,
     "metadata": {},
     "output_type": "execute_result"
    }
   ],
   "source": [
    "df=pd.read_csv('seeds_dataset.txt',sep='\\s+',header=None,names=['area','perimeter','compactness','length_of_ker','width_of_ker','asymmetry_coefficient','lenght_of_ker_groove','varieties'])\n",
    "df"
   ]
  },
  {
   "cell_type": "code",
   "execution_count": 3,
   "id": "2acbbe2b",
   "metadata": {},
   "outputs": [
    {
     "name": "stdout",
     "output_type": "stream",
     "text": [
      "<class 'pandas.core.frame.DataFrame'>\n",
      "RangeIndex: 210 entries, 0 to 209\n",
      "Data columns (total 8 columns):\n",
      " #   Column                 Non-Null Count  Dtype  \n",
      "---  ------                 --------------  -----  \n",
      " 0   area                   210 non-null    float64\n",
      " 1   perimeter              210 non-null    float64\n",
      " 2   compactness            210 non-null    float64\n",
      " 3   length_of_ker          210 non-null    float64\n",
      " 4   width_of_ker           210 non-null    float64\n",
      " 5   asymmetry_coefficient  210 non-null    float64\n",
      " 6   lenght_of_ker_groove   210 non-null    float64\n",
      " 7   varieties              210 non-null    int64  \n",
      "dtypes: float64(7), int64(1)\n",
      "memory usage: 13.2 KB\n"
     ]
    }
   ],
   "source": [
    "df.info()"
   ]
  },
  {
   "cell_type": "markdown",
   "id": "8dda6ce7",
   "metadata": {},
   "source": [
    "### No null values are present and everything pre-coded. So let's do a classification analysis."
   ]
  },
  {
   "cell_type": "code",
   "execution_count": 4,
   "id": "c510cf74",
   "metadata": {},
   "outputs": [],
   "source": [
    "X=df.iloc[:,:-1]\n",
    "y=df.varieties"
   ]
  },
  {
   "cell_type": "code",
   "execution_count": 5,
   "id": "1ae3384b",
   "metadata": {},
   "outputs": [],
   "source": [
    "from sklearn.model_selection import train_test_split\n",
    "X_train,X_test,y_train,y_test=train_test_split(X,y,train_size=0.8,random_state=42)"
   ]
  },
  {
   "cell_type": "code",
   "execution_count": 6,
   "id": "b638ca22",
   "metadata": {},
   "outputs": [
    {
     "data": {
      "text/plain": [
       "1    59\n",
       "2    56\n",
       "3    53\n",
       "Name: varieties, dtype: int64"
      ]
     },
     "execution_count": 6,
     "metadata": {},
     "output_type": "execute_result"
    }
   ],
   "source": [
    "y_train.value_counts()"
   ]
  },
  {
   "cell_type": "code",
   "execution_count": 7,
   "id": "3ef29908",
   "metadata": {},
   "outputs": [
    {
     "data": {
      "text/plain": [
       "3    17\n",
       "2    14\n",
       "1    11\n",
       "Name: varieties, dtype: int64"
      ]
     },
     "execution_count": 7,
     "metadata": {},
     "output_type": "execute_result"
    }
   ],
   "source": [
    "y_test.value_counts()"
   ]
  },
  {
   "cell_type": "markdown",
   "id": "260441e7",
   "metadata": {},
   "source": [
    "### It looks like labeled data for training and testing."
   ]
  },
  {
   "cell_type": "code",
   "execution_count": 8,
   "id": "9968be71",
   "metadata": {},
   "outputs": [],
   "source": [
    "from sklearn.metrics import confusion_matrix\n",
    "def model_score(model,X_train=X_train,y_train=y_train,X_test=X_test,y_test=y_test):\n",
    "    model.fit(X_train,y_train)\n",
    "    pred=model.predict(X_test)\n",
    "    print(str(model)[:str(model).find('(')])\n",
    "    print('-'*30)\n",
    "    print(model)\n",
    "    print(\"Train score: {:.4f}\".format(model.score(X_train,y_train)))\n",
    "    print(\"Test score: {:.4f}\".format(model.score(X_test,y_test)))\n",
    "    print(confusion_matrix(pred,y_test))"
   ]
  },
  {
   "cell_type": "code",
   "execution_count": 9,
   "id": "2a8d948c",
   "metadata": {},
   "outputs": [
    {
     "name": "stdout",
     "output_type": "stream",
     "text": [
      "LogisticRegression\n",
      "------------------------------\n",
      "LogisticRegression(fit_intercept=False, penalty='l1', solver='saga', tol=0.004)\n",
      "Train score: 0.9345\n",
      "Test score: 0.9286\n",
      "[[10  0  2]\n",
      " [ 0 14  0]\n",
      " [ 1  0 15]]\n"
     ]
    }
   ],
   "source": [
    "from sklearn.linear_model import LogisticRegression\n",
    "model_score(LogisticRegression(penalty='l1',solver='saga',tol=0.004,fit_intercept=False,))"
   ]
  },
  {
   "cell_type": "code",
   "execution_count": 10,
   "id": "9add9c88",
   "metadata": {},
   "outputs": [
    {
     "name": "stdout",
     "output_type": "stream",
     "text": [
      "RidgeClassifierCV\n",
      "------------------------------\n",
      "RidgeClassifierCV(alphas=array([ 0.1,  1. , 10. ]))\n",
      "Train score: 0.9762\n",
      "Test score: 0.9762\n",
      "[[11  0  1]\n",
      " [ 0 14  0]\n",
      " [ 0  0 16]]\n"
     ]
    }
   ],
   "source": [
    "from sklearn.linear_model import RidgeClassifierCV\n",
    "model_score(RidgeClassifierCV())"
   ]
  },
  {
   "cell_type": "markdown",
   "id": "976258cd",
   "metadata": {},
   "source": [
    "### For more accuracy and some advance analysis"
   ]
  },
  {
   "cell_type": "code",
   "execution_count": 11,
   "id": "a915b277",
   "metadata": {},
   "outputs": [],
   "source": [
    "import matplotlib.pyplot as plt"
   ]
  },
  {
   "cell_type": "code",
   "execution_count": 12,
   "id": "96e4ef3d",
   "metadata": {},
   "outputs": [
    {
     "data": {
      "text/plain": [
       "<matplotlib.collections.PathCollection at 0x1cf772e0520>"
      ]
     },
     "execution_count": 12,
     "metadata": {},
     "output_type": "execute_result"
    },
    {
     "data": {
      "image/png": "[encoded data removed]",
      "text/plain": [
       "<Figure size 432x288 with 1 Axes>"
      ]
     },
     "metadata": {
      "needs_background": "light"
     },
     "output_type": "display_data"
    }
   ],
   "source": [
    "from sklearn.decomposition import PCA\n",
    "model=PCA(n_components=2)\n",
    "d_X_train=model.fit_transform(X_train)\n",
    "d_X_test=model.transform(X_test)\n",
    "plt.scatter(d_X_train[:,0],d_X_train[:,1],c=y_train)"
   ]
  },
  {
   "cell_type": "code",
   "execution_count": 13,
   "id": "997ff43c",
   "metadata": {},
   "outputs": [
    {
     "data": {
      "text/plain": [
       "array([[-3.53515028,  1.11779438],\n",
       "       [ 4.99201463,  0.45624565],\n",
       "       [-3.02269199,  1.4330159 ],\n",
       "       [-0.28758777, -2.24946598]])"
      ]
     },
     "execution_count": 13,
     "metadata": {},
     "output_type": "execute_result"
    }
   ],
   "source": [
    "d_X_train[:4,:]"
   ]
  },
  {
   "cell_type": "code",
   "execution_count": 14,
   "id": "39624f36",
   "metadata": {},
   "outputs": [
    {
     "name": "stdout",
     "output_type": "stream",
     "text": [
      "LogisticRegression\n",
      "------------------------------\n",
      "LogisticRegression()\n",
      "Train score: 0.8988\n",
      "Test score: 0.9286\n",
      "[[10  1  1]\n",
      " [ 0 13  0]\n",
      " [ 1  0 16]]\n"
     ]
    }
   ],
   "source": [
    "# please again import this model otherwise error shows\n",
    "from sklearn.linear_model import LogisticRegression\n",
    "X1_train=d_X_train\n",
    "X1_test=d_X_test\n",
    "model_score(LogisticRegression(),X_train=X1_train,X_test=X1_test)"
   ]
  },
  {
   "cell_type": "code",
   "execution_count": 15,
   "id": "ad9b2a1a",
   "metadata": {
    "scrolled": false
   },
   "outputs": [
    {
     "data": {
      "text/plain": [
       "<matplotlib.collections.PathCollection at 0x1cf778675b0>"
      ]
     },
     "execution_count": 15,
     "metadata": {},
     "output_type": "execute_result"
    },
    {
     "data": {
      "image/png": "[encoded data removed]",
      "text/plain": [
       "<Figure size 432x288 with 1 Axes>"
      ]
     },
     "metadata": {
      "needs_background": "light"
     },
     "output_type": "display_data"
    }
   ],
   "source": [
    "from sklearn.discriminant_analysis import LinearDiscriminantAnalysis\n",
    "lda=LinearDiscriminantAnalysis()\n",
    "lda=lda.fit_transform(X,y)\n",
    "\n",
    "from sklearn.model_selection import train_test_split\n",
    "X2_train,X2_test,y2_train,y2_test=train_test_split(lda,y,train_size=0.8,random_state=42)\n",
    "\n",
    "plt.scatter(X2_train[:,0],X2_train[:,1],c=y_train)"
   ]
  },
  {
   "cell_type": "code",
   "execution_count": 16,
   "id": "0dcb707c",
   "metadata": {},
   "outputs": [
    {
     "name": "stdout",
     "output_type": "stream",
     "text": [
      "LogisticRegression\n",
      "------------------------------\n",
      "LogisticRegression()\n",
      "Train score: 0.9762\n",
      "Test score: 0.9524\n",
      "[[11  0  2]\n",
      " [ 0 14  0]\n",
      " [ 0  0 15]]\n"
     ]
    }
   ],
   "source": [
    "from sklearn.linear_model import LogisticRegression\n",
    "model_score(LogisticRegression(),X_train=X2_train,y_train=y2_train,X_test=X2_test,y_test=y2_test)"
   ]
  },
  {
   "cell_type": "markdown",
   "id": "07481edf",
   "metadata": {},
   "source": [
    "## Scaling"
   ]
  },
  {
   "cell_type": "code",
   "execution_count": 17,
   "id": "019eaa75",
   "metadata": {},
   "outputs": [],
   "source": [
    "from sklearn.preprocessing import StandardScaler\n",
    "ss=StandardScaler()\n",
    "X=ss.fit_transform(X)"
   ]
  },
  {
   "cell_type": "code",
   "execution_count": 18,
   "id": "e4f34301",
   "metadata": {},
   "outputs": [],
   "source": [
    "from sklearn.model_selection import train_test_split\n",
    "X_train,X_test,y_train,y_test=train_test_split(X,y,train_size=0.8,random_state=42)"
   ]
  },
  {
   "cell_type": "code",
   "execution_count": 19,
   "id": "e80bfb66",
   "metadata": {},
   "outputs": [],
   "source": [
    "from sklearn.metrics import confusion_matrix\n",
    "def model_score(model,X_train=X_train,y_train=y_train,X_test=X_test,y_test=y_test):\n",
    "    model.fit(X_train,y_train)\n",
    "    pred=model.predict(X_test)\n",
    "    print(str(model)[:str(model).find('(')],'with scaling')\n",
    "    print('-'*30)\n",
    "    print(model)\n",
    "    print(\"Train score: {:.4f}\".format(model.score(X_train,y_train)))\n",
    "    print(\"Test score: {:.4f}\".format(model.score(X_test,y_test)))\n",
    "    print(confusion_matrix(pred,y_test))"
   ]
  },
  {
   "cell_type": "code",
   "execution_count": 20,
   "id": "431542a8",
   "metadata": {
    "scrolled": true
   },
   "outputs": [
    {
     "name": "stdout",
     "output_type": "stream",
     "text": [
      "LogisticRegression with scaling\n",
      "------------------------------\n",
      "LogisticRegression(fit_intercept=False, penalty='l1', solver='saga', tol=0.004)\n",
      "Train score: 0.9524\n",
      "Test score: 0.9524\n",
      "[[10  0  1]\n",
      " [ 0 14  0]\n",
      " [ 1  0 16]]\n"
     ]
    }
   ],
   "source": [
    "from sklearn.linear_model import LogisticRegression\n",
    "model_score(LogisticRegression(penalty='l1',solver='saga',tol=0.004,fit_intercept=False,))"
   ]
  },
  {
   "cell_type": "code",
   "execution_count": 21,
   "id": "94b64400",
   "metadata": {},
   "outputs": [
    {
     "name": "stdout",
     "output_type": "stream",
     "text": [
      "RidgeClassifierCV with scaling\n",
      "------------------------------\n",
      "RidgeClassifierCV(alphas=array([ 0.1,  1. , 10. ]))\n",
      "Train score: 0.9702\n",
      "Test score: 0.9524\n",
      "[[11  0  2]\n",
      " [ 0 14  0]\n",
      " [ 0  0 15]]\n"
     ]
    }
   ],
   "source": [
    "from sklearn.linear_model import RidgeClassifierCV\n",
    "model_score(RidgeClassifierCV())"
   ]
  },
  {
   "cell_type": "code",
   "execution_count": 22,
   "id": "36844851",
   "metadata": {},
   "outputs": [
    {
     "data": {
      "text/plain": [
       "<matplotlib.collections.PathCollection at 0x1cf778cfca0>"
      ]
     },
     "execution_count": 22,
     "metadata": {},
     "output_type": "execute_result"
    },
    {
     "data": {
      "image/png": "[encoded data removed]",
      "text/plain": [
       "<Figure size 432x288 with 1 Axes>"
      ]
     },
     "metadata": {
      "needs_background": "light"
     },
     "output_type": "display_data"
    }
   ],
   "source": [
    "from sklearn.decomposition import PCA\n",
    "model=PCA(n_components=2)\n",
    "d_X_train=model.fit_transform(X_train)\n",
    "d_X_test=model.transform(X_test)\n",
    "plt.scatter(d_X_train[:,0],d_X_train[:,1],c=y_train)"
   ]
  },
  {
   "cell_type": "code",
   "execution_count": 23,
   "id": "a4745b09",
   "metadata": {
    "scrolled": true
   },
   "outputs": [
    {
     "data": {
      "text/plain": [
       "array([[-2.2285719 ,  0.94473614],\n",
       "       [ 3.44742646,  0.6485118 ],\n",
       "       [-2.03375449,  0.56865836],\n",
       "       [-0.22797192, -1.19450082]])"
      ]
     },
     "execution_count": 23,
     "metadata": {},
     "output_type": "execute_result"
    }
   ],
   "source": [
    "d_X_train[:4,:]"
   ]
  },
  {
   "cell_type": "code",
   "execution_count": 24,
   "id": "f6ae3eaf",
   "metadata": {},
   "outputs": [
    {
     "name": "stdout",
     "output_type": "stream",
     "text": [
      "LogisticRegression with scaling\n",
      "------------------------------\n",
      "LogisticRegression()\n",
      "Train score: 0.9345\n",
      "Test score: 0.8810\n",
      "[[ 9  0  3]\n",
      " [ 0 14  0]\n",
      " [ 2  0 14]]\n"
     ]
    }
   ],
   "source": [
    "from sklearn.linear_model import LogisticRegression\n",
    "X1_train=d_X_train\n",
    "X1_test=d_X_test\n",
    "model_score(LogisticRegression(),X_train=X1_train,X_test=X1_test)"
   ]
  },
  {
   "cell_type": "code",
   "execution_count": 25,
   "id": "fec0ecaa",
   "metadata": {
    "scrolled": true
   },
   "outputs": [
    {
     "data": {
      "text/plain": [
       "<matplotlib.collections.PathCollection at 0x1cf77937940>"
      ]
     },
     "execution_count": 25,
     "metadata": {},
     "output_type": "execute_result"
    },
    {
     "data": {
      "image/png": "[encoded data removed]",
      "text/plain": [
       "<Figure size 432x288 with 1 Axes>"
      ]
     },
     "metadata": {
      "needs_background": "light"
     },
     "output_type": "display_data"
    }
   ],
   "source": [
    "from sklearn.discriminant_analysis import LinearDiscriminantAnalysis\n",
    "lda=LinearDiscriminantAnalysis()\n",
    "lda=lda.fit_transform(X,y)\n",
    "\n",
    "from sklearn.model_selection import train_test_split\n",
    "X2_train,X2_test,y2_train,y2_test=train_test_split(lda,y,train_size=0.8,random_state=42)\n",
    "\n",
    "plt.scatter(X2_train[:,0],X2_train[:,1],c=y_train)"
   ]
  },
  {
   "cell_type": "code",
   "execution_count": 26,
   "id": "86e2e972",
   "metadata": {},
   "outputs": [
    {
     "name": "stdout",
     "output_type": "stream",
     "text": [
      "LogisticRegression with scaling\n",
      "------------------------------\n",
      "LogisticRegression()\n",
      "Train score: 0.9762\n",
      "Test score: 0.9524\n",
      "[[11  0  2]\n",
      " [ 0 14  0]\n",
      " [ 0  0 15]]\n"
     ]
    }
   ],
   "source": [
    "from sklearn.linear_model import LogisticRegression\n",
    "model_score(LogisticRegression(),X_train=X2_train,y_train=y2_train,X_test=X2_test,y_test=y2_test)"
   ]
  },
  {
   "cell_type": "markdown",
   "id": "f75ede5d",
   "metadata": {},
   "source": [
    "## Results:-"
   ]
  },
  {
   "cell_type": "markdown",
   "id": "c41a15ce",
   "metadata": {},
   "source": [
    "### Train and Test score without StandardScaler"
   ]
  },
  {
   "cell_type": "markdown",
   "id": "ea816495",
   "metadata": {},
   "source": [
    "| S No.|model_name | train_score | test_score |\n",
    "| --- | --- | --- | --- |\n",
    "| 1. | LogisticRegression(penalty='l1',solver='saga',tol=0.004,fit_intercept=False,) | 0.9345 | 0.9286 |\n",
    "| 2. | RidgeClassifierCV() | 0.9762 | 0.9762 |\n",
    "| 3. | PCA+LogisticRegression() | 0.8988 | 0.9286 |\n",
    "| 4. | LDA+LogisticRegression() | 0.9762 | 0.9524 |"
   ]
  },
  {
   "cell_type": "markdown",
   "id": "2698a320",
   "metadata": {},
   "source": [
    "### Train and Test score after StandardScaler"
   ]
  },
  {
   "cell_type": "markdown",
   "id": "3907a67d",
   "metadata": {},
   "source": [
    "| S No.|model_name | train_score | test_score |\n",
    "| --- | --- | --- | --- |\n",
    "| 1. | LogisticRegression(penalty='l1',solver='saga',tol=0.004,fit_intercept=False,) | 0.9524 | 0.9524 |\n",
    "| 2. | RidgeClassifierCV() | 0.9702 | 0.9524 |\n",
    "| 3. | PCA+LogisticRegression() | 0.9345 | 0.8810 |\n",
    "| 4. | LDA+LogisticRegression() | 0.9762 | 0.9524 |"
   ]
  },
  {
   "cell_type": "markdown",
   "id": "16e71b8f",
   "metadata": {},
   "source": [
    "# Relevant Papers:\n",
    "\n",
    "M. Charytanowicz, J. Niewczas, P. Kulczycki, P.A. Kowalski, S. Lukasik, S. Zak, 'A Complete Gradient Clustering Algorithm for Features Analysis of X-ray Images', in: Information Technologies in Biomedicine, Ewa Pietka, Jacek Kawa (eds.), Springer-Verlag, Berlin-Heidelberg, 2010, pp. 15-24."
   ]
  }
 ],
 "metadata": {
  "kernelspec": {
   "display_name": "Python 3 (ipykernel)",
   "language": "python",
   "name": "python3"
  },
  "language_info": {
   "codemirror_mode": {
    "name": "ipython",
    "version": 3
   },
   "file_extension": ".py",
   "mimetype": "text/x-python",
   "name": "python",
   "nbconvert_exporter": "python",
   "pygments_lexer": "ipython3",
   "version": "3.9.12"
  }
 },
 "nbformat": 4,
 "nbformat_minor": 5
}
